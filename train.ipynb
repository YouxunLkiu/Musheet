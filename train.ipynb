{
 "cells": [
  {
   "cell_type": "markdown",
   "id": "f80e4451",
   "metadata": {},
   "source": [
    "# Piano to Sheet\n",
    "\n",
    "Converting .wav piano pieces into music sheets.\n",
    "\n",
    "I\n",
    "\n",
    "## Pipeline break down ( beta)\n",
    "\n",
    "1. Loading in the wave file,\n",
    "2. \n",
    "\n"
   ]
  },
  {
   "cell_type": "markdown",
   "id": "941fd603",
   "metadata": {},
   "source": [
    "## Audio Processing  Libraries"
   ]
  },
  {
   "cell_type": "code",
   "execution_count": 1,
   "id": "a985a4f4",
   "metadata": {},
   "outputs": [
    {
     "name": "stdout",
     "output_type": "stream",
     "text": [
      "Requirement already satisfied: librosa in /Users/youxunliu/opt/anaconda3/lib/python3.9/site-packages (0.10.2.post1)\n",
      "Requirement already satisfied: numba>=0.51.0 in /Users/youxunliu/opt/anaconda3/lib/python3.9/site-packages (from librosa) (0.55.1)\n",
      "Requirement already satisfied: decorator>=4.3.0 in /Users/youxunliu/opt/anaconda3/lib/python3.9/site-packages (from librosa) (5.1.1)\n",
      "Requirement already satisfied: soundfile>=0.12.1 in /Users/youxunliu/opt/anaconda3/lib/python3.9/site-packages (from librosa) (0.12.1)\n",
      "Requirement already satisfied: soxr>=0.3.2 in /Users/youxunliu/opt/anaconda3/lib/python3.9/site-packages (from librosa) (0.5.0.post1)\n",
      "Requirement already satisfied: lazy-loader>=0.1 in /Users/youxunliu/opt/anaconda3/lib/python3.9/site-packages (from librosa) (0.4)\n",
      "Requirement already satisfied: scikit-learn>=0.20.0 in /Users/youxunliu/opt/anaconda3/lib/python3.9/site-packages (from librosa) (1.2.2)\n",
      "Requirement already satisfied: joblib>=0.14 in /Users/youxunliu/opt/anaconda3/lib/python3.9/site-packages (from librosa) (1.2.0)\n",
      "Requirement already satisfied: audioread>=2.1.9 in /Users/youxunliu/opt/anaconda3/lib/python3.9/site-packages (from librosa) (3.0.1)\n",
      "Requirement already satisfied: pooch>=1.1 in /Users/youxunliu/opt/anaconda3/lib/python3.9/site-packages (from librosa) (1.8.2)\n",
      "Requirement already satisfied: typing-extensions>=4.1.1 in /Users/youxunliu/opt/anaconda3/lib/python3.9/site-packages (from librosa) (4.12.2)\n",
      "Requirement already satisfied: msgpack>=1.0 in /Users/youxunliu/opt/anaconda3/lib/python3.9/site-packages (from librosa) (1.0.3)\n",
      "Requirement already satisfied: scipy>=1.2.0 in /Users/youxunliu/opt/anaconda3/lib/python3.9/site-packages (from librosa) (1.9.1)\n",
      "Requirement already satisfied: numpy!=1.22.0,!=1.22.1,!=1.22.2,>=1.20.3 in /Users/youxunliu/opt/anaconda3/lib/python3.9/site-packages (from librosa) (1.24.4)\n",
      "Requirement already satisfied: packaging in /Users/youxunliu/opt/anaconda3/lib/python3.9/site-packages (from lazy-loader>=0.1->librosa) (21.3)\n",
      "Requirement already satisfied: llvmlite<0.39,>=0.38.0rc1 in /Users/youxunliu/opt/anaconda3/lib/python3.9/site-packages (from numba>=0.51.0->librosa) (0.38.0)\n",
      "Requirement already satisfied: setuptools in /Users/youxunliu/opt/anaconda3/lib/python3.9/site-packages (from numba>=0.51.0->librosa) (63.4.1)\n",
      "Collecting numpy!=1.22.0,!=1.22.1,!=1.22.2,>=1.20.3\n",
      "  Downloading numpy-1.21.6-cp39-cp39-macosx_10_9_x86_64.whl (17.0 MB)\n",
      "\u001b[2K     \u001b[90m━━━━━━━━━━━━━━━━━━━━━━━━━━━━━━━━━━━━━━━━\u001b[0m \u001b[32m17.0/17.0 MB\u001b[0m \u001b[31m11.4 MB/s\u001b[0m eta \u001b[36m0:00:00\u001b[0m00:01\u001b[0m00:01\u001b[0m\n",
      "\u001b[?25hRequirement already satisfied: requests>=2.19.0 in /Users/youxunliu/opt/anaconda3/lib/python3.9/site-packages (from pooch>=1.1->librosa) (2.28.1)\n",
      "Requirement already satisfied: platformdirs>=2.5.0 in /Users/youxunliu/opt/anaconda3/lib/python3.9/site-packages (from pooch>=1.1->librosa) (2.5.2)\n",
      "Requirement already satisfied: threadpoolctl>=2.0.0 in /Users/youxunliu/opt/anaconda3/lib/python3.9/site-packages (from scikit-learn>=0.20.0->librosa) (2.2.0)\n",
      "Requirement already satisfied: cffi>=1.0 in /Users/youxunliu/opt/anaconda3/lib/python3.9/site-packages (from soundfile>=0.12.1->librosa) (1.15.1)\n",
      "Requirement already satisfied: pycparser in /Users/youxunliu/opt/anaconda3/lib/python3.9/site-packages (from cffi>=1.0->soundfile>=0.12.1->librosa) (2.21)\n",
      "Requirement already satisfied: pyparsing!=3.0.5,>=2.0.2 in /Users/youxunliu/opt/anaconda3/lib/python3.9/site-packages (from packaging->lazy-loader>=0.1->librosa) (3.0.9)\n",
      "Requirement already satisfied: certifi>=2017.4.17 in /Users/youxunliu/opt/anaconda3/lib/python3.9/site-packages (from requests>=2.19.0->pooch>=1.1->librosa) (2022.9.24)\n",
      "Requirement already satisfied: charset-normalizer<3,>=2 in /Users/youxunliu/opt/anaconda3/lib/python3.9/site-packages (from requests>=2.19.0->pooch>=1.1->librosa) (2.0.4)\n",
      "Requirement already satisfied: idna<4,>=2.5 in /Users/youxunliu/opt/anaconda3/lib/python3.9/site-packages (from requests>=2.19.0->pooch>=1.1->librosa) (3.3)\n",
      "Requirement already satisfied: urllib3<1.27,>=1.21.1 in /Users/youxunliu/opt/anaconda3/lib/python3.9/site-packages (from requests>=2.19.0->pooch>=1.1->librosa) (1.26.11)\n",
      "Installing collected packages: numpy\n",
      "  Attempting uninstall: numpy\n",
      "    Found existing installation: numpy 1.24.4\n",
      "    Uninstalling numpy-1.24.4:\n",
      "      Successfully uninstalled numpy-1.24.4\n",
      "\u001b[31mERROR: pip's dependency resolver does not currently take into account all the packages that are installed. This behaviour is the source of the following dependency conflicts.\n",
      "daal4py 2021.6.0 requires daal==2021.4.0, which is not installed.\n",
      "tensorflow 2.16.2 requires numpy<2.0.0,>=1.23.5; python_version <= \"3.11\", but you have numpy 1.21.6 which is incompatible.\u001b[0m\u001b[31m\n",
      "\u001b[0mSuccessfully installed numpy-1.21.6\n",
      "Note: you may need to restart the kernel to use updated packages.\n"
     ]
    }
   ],
   "source": [
    "pip install librosa"
   ]
  },
  {
   "cell_type": "code",
   "execution_count": 2,
   "id": "eeaff679",
   "metadata": {},
   "outputs": [
    {
     "name": "stdout",
     "output_type": "stream",
     "text": [
      "Requirement already satisfied: pydub in /Users/youxunliu/opt/anaconda3/lib/python3.9/site-packages (0.25.1)\n",
      "Note: you may need to restart the kernel to use updated packages.\n"
     ]
    }
   ],
   "source": [
    "pip install pydub"
   ]
  },
  {
   "cell_type": "markdown",
   "id": "b7c76f67",
   "metadata": {},
   "source": [
    "## Machine Learning Lib"
   ]
  },
  {
   "cell_type": "code",
   "execution_count": 3,
   "id": "bf32e564",
   "metadata": {},
   "outputs": [
    {
     "name": "stdout",
     "output_type": "stream",
     "text": [
      "Requirement already satisfied: tensorflow in /Users/youxunliu/opt/anaconda3/lib/python3.9/site-packages (2.16.2)\n",
      "Requirement already satisfied: keras>=3.0.0 in /Users/youxunliu/opt/anaconda3/lib/python3.9/site-packages (from tensorflow) (3.6.0)\n",
      "Requirement already satisfied: flatbuffers>=23.5.26 in /Users/youxunliu/opt/anaconda3/lib/python3.9/site-packages (from tensorflow) (24.3.25)\n",
      "Requirement already satisfied: google-pasta>=0.1.1 in /Users/youxunliu/opt/anaconda3/lib/python3.9/site-packages (from tensorflow) (0.2.0)\n",
      "Requirement already satisfied: grpcio<2.0,>=1.24.3 in /Users/youxunliu/opt/anaconda3/lib/python3.9/site-packages (from tensorflow) (1.68.0)\n",
      "Requirement already satisfied: typing-extensions>=3.6.6 in /Users/youxunliu/opt/anaconda3/lib/python3.9/site-packages (from tensorflow) (4.12.2)\n",
      "Requirement already satisfied: tensorboard<2.17,>=2.16 in /Users/youxunliu/opt/anaconda3/lib/python3.9/site-packages (from tensorflow) (2.16.2)\n",
      "Requirement already satisfied: h5py>=3.10.0 in /Users/youxunliu/opt/anaconda3/lib/python3.9/site-packages (from tensorflow) (3.12.1)\n",
      "Requirement already satisfied: requests<3,>=2.21.0 in /Users/youxunliu/opt/anaconda3/lib/python3.9/site-packages (from tensorflow) (2.28.1)\n",
      "Requirement already satisfied: opt-einsum>=2.3.2 in /Users/youxunliu/opt/anaconda3/lib/python3.9/site-packages (from tensorflow) (3.4.0)\n",
      "Requirement already satisfied: tensorflow-io-gcs-filesystem>=0.23.1 in /Users/youxunliu/opt/anaconda3/lib/python3.9/site-packages (from tensorflow) (0.37.1)\n",
      "Collecting numpy<2.0.0,>=1.23.5\n",
      "  Using cached numpy-1.26.4-cp39-cp39-macosx_10_9_x86_64.whl (20.6 MB)\n",
      "Requirement already satisfied: gast!=0.5.0,!=0.5.1,!=0.5.2,>=0.2.1 in /Users/youxunliu/opt/anaconda3/lib/python3.9/site-packages (from tensorflow) (0.6.0)\n",
      "Requirement already satisfied: termcolor>=1.1.0 in /Users/youxunliu/opt/anaconda3/lib/python3.9/site-packages (from tensorflow) (2.5.0)\n",
      "Requirement already satisfied: astunparse>=1.6.0 in /Users/youxunliu/opt/anaconda3/lib/python3.9/site-packages (from tensorflow) (1.6.3)\n",
      "Requirement already satisfied: wrapt>=1.11.0 in /Users/youxunliu/opt/anaconda3/lib/python3.9/site-packages (from tensorflow) (1.14.1)\n",
      "Requirement already satisfied: protobuf!=4.21.0,!=4.21.1,!=4.21.2,!=4.21.3,!=4.21.4,!=4.21.5,<5.0.0dev,>=3.20.3 in /Users/youxunliu/opt/anaconda3/lib/python3.9/site-packages (from tensorflow) (4.25.5)\n",
      "Requirement already satisfied: libclang>=13.0.0 in /Users/youxunliu/opt/anaconda3/lib/python3.9/site-packages (from tensorflow) (18.1.1)\n",
      "Requirement already satisfied: absl-py>=1.0.0 in /Users/youxunliu/opt/anaconda3/lib/python3.9/site-packages (from tensorflow) (2.1.0)\n",
      "Requirement already satisfied: six>=1.12.0 in /Users/youxunliu/opt/anaconda3/lib/python3.9/site-packages (from tensorflow) (1.16.0)\n",
      "Requirement already satisfied: setuptools in /Users/youxunliu/opt/anaconda3/lib/python3.9/site-packages (from tensorflow) (63.4.1)\n",
      "Requirement already satisfied: ml-dtypes~=0.3.1 in /Users/youxunliu/opt/anaconda3/lib/python3.9/site-packages (from tensorflow) (0.3.2)\n",
      "Requirement already satisfied: packaging in /Users/youxunliu/opt/anaconda3/lib/python3.9/site-packages (from tensorflow) (21.3)\n",
      "Requirement already satisfied: wheel<1.0,>=0.23.0 in /Users/youxunliu/opt/anaconda3/lib/python3.9/site-packages (from astunparse>=1.6.0->tensorflow) (0.37.1)\n",
      "Requirement already satisfied: rich in /Users/youxunliu/opt/anaconda3/lib/python3.9/site-packages (from keras>=3.0.0->tensorflow) (13.9.4)\n",
      "Requirement already satisfied: namex in /Users/youxunliu/opt/anaconda3/lib/python3.9/site-packages (from keras>=3.0.0->tensorflow) (0.0.8)\n",
      "Requirement already satisfied: optree in /Users/youxunliu/opt/anaconda3/lib/python3.9/site-packages (from keras>=3.0.0->tensorflow) (0.13.1)\n",
      "Requirement already satisfied: idna<4,>=2.5 in /Users/youxunliu/opt/anaconda3/lib/python3.9/site-packages (from requests<3,>=2.21.0->tensorflow) (3.3)\n",
      "Requirement already satisfied: urllib3<1.27,>=1.21.1 in /Users/youxunliu/opt/anaconda3/lib/python3.9/site-packages (from requests<3,>=2.21.0->tensorflow) (1.26.11)\n",
      "Requirement already satisfied: certifi>=2017.4.17 in /Users/youxunliu/opt/anaconda3/lib/python3.9/site-packages (from requests<3,>=2.21.0->tensorflow) (2022.9.24)\n",
      "Requirement already satisfied: charset-normalizer<3,>=2 in /Users/youxunliu/opt/anaconda3/lib/python3.9/site-packages (from requests<3,>=2.21.0->tensorflow) (2.0.4)\n",
      "Requirement already satisfied: tensorboard-data-server<0.8.0,>=0.7.0 in /Users/youxunliu/opt/anaconda3/lib/python3.9/site-packages (from tensorboard<2.17,>=2.16->tensorflow) (0.7.2)\n",
      "Requirement already satisfied: werkzeug>=1.0.1 in /Users/youxunliu/opt/anaconda3/lib/python3.9/site-packages (from tensorboard<2.17,>=2.16->tensorflow) (2.0.3)\n",
      "Requirement already satisfied: markdown>=2.6.8 in /Users/youxunliu/opt/anaconda3/lib/python3.9/site-packages (from tensorboard<2.17,>=2.16->tensorflow) (3.3.4)\n",
      "Requirement already satisfied: pyparsing!=3.0.5,>=2.0.2 in /Users/youxunliu/opt/anaconda3/lib/python3.9/site-packages (from packaging->tensorflow) (3.0.9)\n",
      "Requirement already satisfied: pygments<3.0.0,>=2.13.0 in /Users/youxunliu/opt/anaconda3/lib/python3.9/site-packages (from rich->keras>=3.0.0->tensorflow) (2.18.0)\n",
      "Requirement already satisfied: markdown-it-py>=2.2.0 in /Users/youxunliu/opt/anaconda3/lib/python3.9/site-packages (from rich->keras>=3.0.0->tensorflow) (3.0.0)\n",
      "Requirement already satisfied: mdurl~=0.1 in /Users/youxunliu/opt/anaconda3/lib/python3.9/site-packages (from markdown-it-py>=2.2.0->rich->keras>=3.0.0->tensorflow) (0.1.2)\n",
      "Installing collected packages: numpy\n",
      "  Attempting uninstall: numpy\n",
      "    Found existing installation: numpy 1.21.6\n",
      "    Uninstalling numpy-1.21.6:\n",
      "      Successfully uninstalled numpy-1.21.6\n",
      "\u001b[31mERROR: pip's dependency resolver does not currently take into account all the packages that are installed. This behaviour is the source of the following dependency conflicts.\n",
      "daal4py 2021.6.0 requires daal==2021.4.0, which is not installed.\n",
      "scipy 1.9.1 requires numpy<1.25.0,>=1.18.5, but you have numpy 1.26.4 which is incompatible.\n",
      "numba 0.55.1 requires numpy<1.22,>=1.18, but you have numpy 1.26.4 which is incompatible.\u001b[0m\u001b[31m\n",
      "\u001b[0mSuccessfully installed numpy-1.26.4\n",
      "Note: you may need to restart the kernel to use updated packages.\n"
     ]
    }
   ],
   "source": [
    "pip install tensorflow\n"
   ]
  },
  {
   "cell_type": "code",
   "execution_count": 4,
   "id": "a8d1e1bc",
   "metadata": {},
   "outputs": [
    {
     "name": "stdout",
     "output_type": "stream",
     "text": [
      "Requirement already satisfied: torch in /Users/youxunliu/opt/anaconda3/lib/python3.9/site-packages (2.2.2)\n",
      "Requirement already satisfied: torchvision in /Users/youxunliu/opt/anaconda3/lib/python3.9/site-packages (0.17.2)\n",
      "Requirement already satisfied: typing-extensions>=4.8.0 in /Users/youxunliu/opt/anaconda3/lib/python3.9/site-packages (from torch) (4.12.2)\n",
      "Requirement already satisfied: fsspec in /Users/youxunliu/opt/anaconda3/lib/python3.9/site-packages (from torch) (2022.7.1)\n",
      "Requirement already satisfied: sympy in /Users/youxunliu/opt/anaconda3/lib/python3.9/site-packages (from torch) (1.10.1)\n",
      "Requirement already satisfied: jinja2 in /Users/youxunliu/opt/anaconda3/lib/python3.9/site-packages (from torch) (2.11.3)\n",
      "Requirement already satisfied: filelock in /Users/youxunliu/opt/anaconda3/lib/python3.9/site-packages (from torch) (3.6.0)\n",
      "Requirement already satisfied: networkx in /Users/youxunliu/opt/anaconda3/lib/python3.9/site-packages (from torch) (2.8.4)\n",
      "Requirement already satisfied: numpy in /Users/youxunliu/opt/anaconda3/lib/python3.9/site-packages (from torchvision) (1.26.4)\n",
      "Requirement already satisfied: pillow!=8.3.*,>=5.3.0 in /Users/youxunliu/opt/anaconda3/lib/python3.9/site-packages (from torchvision) (9.2.0)\n",
      "Requirement already satisfied: MarkupSafe>=0.23 in /Users/youxunliu/opt/anaconda3/lib/python3.9/site-packages (from jinja2->torch) (2.0.1)\n",
      "Requirement already satisfied: mpmath>=0.19 in /Users/youxunliu/opt/anaconda3/lib/python3.9/site-packages (from sympy->torch) (1.2.1)\n",
      "Note: you may need to restart the kernel to use updated packages.\n"
     ]
    }
   ],
   "source": [
    "pip install torch torchvision\n"
   ]
  },
  {
   "cell_type": "code",
   "execution_count": 5,
   "id": "e557ea21",
   "metadata": {},
   "outputs": [
    {
     "name": "stdout",
     "output_type": "stream",
     "text": [
      "Requirement already satisfied: scikit-learn in /Users/youxunliu/opt/anaconda3/lib/python3.9/site-packages (1.2.2)\n",
      "Requirement already satisfied: numpy>=1.17.3 in /Users/youxunliu/opt/anaconda3/lib/python3.9/site-packages (from scikit-learn) (1.26.4)\n",
      "Requirement already satisfied: scipy>=1.3.2 in /Users/youxunliu/opt/anaconda3/lib/python3.9/site-packages (from scikit-learn) (1.9.1)\n",
      "Requirement already satisfied: joblib>=1.1.1 in /Users/youxunliu/opt/anaconda3/lib/python3.9/site-packages (from scikit-learn) (1.2.0)\n",
      "Requirement already satisfied: threadpoolctl>=2.0.0 in /Users/youxunliu/opt/anaconda3/lib/python3.9/site-packages (from scikit-learn) (2.2.0)\n",
      "Collecting numpy>=1.17.3\n",
      "  Using cached numpy-1.24.4-cp39-cp39-macosx_10_9_x86_64.whl (19.8 MB)\n",
      "Installing collected packages: numpy\n",
      "  Attempting uninstall: numpy\n",
      "    Found existing installation: numpy 1.26.4\n",
      "    Uninstalling numpy-1.26.4:\n",
      "      Successfully uninstalled numpy-1.26.4\n",
      "\u001b[31mERROR: pip's dependency resolver does not currently take into account all the packages that are installed. This behaviour is the source of the following dependency conflicts.\n",
      "daal4py 2021.6.0 requires daal==2021.4.0, which is not installed.\n",
      "numba 0.55.1 requires numpy<1.22,>=1.18, but you have numpy 1.24.4 which is incompatible.\u001b[0m\u001b[31m\n",
      "\u001b[0mSuccessfully installed numpy-1.24.4\n",
      "Note: you may need to restart the kernel to use updated packages.\n"
     ]
    }
   ],
   "source": [
    "pip install scikit-learn"
   ]
  },
  {
   "cell_type": "code",
   "execution_count": 6,
   "id": "2373d87f-8b06-41d2-a890-df7bc0eebd7c",
   "metadata": {},
   "outputs": [
    {
     "name": "stdout",
     "output_type": "stream",
     "text": [
      "Requirement already satisfied: matplotlib in /Users/youxunliu/opt/anaconda3/lib/python3.9/site-packages (3.5.2)\n",
      "Requirement already satisfied: cycler>=0.10 in /Users/youxunliu/opt/anaconda3/lib/python3.9/site-packages (from matplotlib) (0.11.0)\n",
      "Requirement already satisfied: packaging>=20.0 in /Users/youxunliu/opt/anaconda3/lib/python3.9/site-packages (from matplotlib) (21.3)\n",
      "Requirement already satisfied: python-dateutil>=2.7 in /Users/youxunliu/opt/anaconda3/lib/python3.9/site-packages (from matplotlib) (2.8.2)\n",
      "Requirement already satisfied: fonttools>=4.22.0 in /Users/youxunliu/opt/anaconda3/lib/python3.9/site-packages (from matplotlib) (4.25.0)\n",
      "Requirement already satisfied: kiwisolver>=1.0.1 in /Users/youxunliu/opt/anaconda3/lib/python3.9/site-packages (from matplotlib) (1.4.2)\n",
      "Requirement already satisfied: numpy>=1.17 in /Users/youxunliu/opt/anaconda3/lib/python3.9/site-packages (from matplotlib) (1.24.4)\n",
      "Requirement already satisfied: pyparsing>=2.2.1 in /Users/youxunliu/opt/anaconda3/lib/python3.9/site-packages (from matplotlib) (3.0.9)\n",
      "Requirement already satisfied: pillow>=6.2.0 in /Users/youxunliu/opt/anaconda3/lib/python3.9/site-packages (from matplotlib) (9.2.0)\n",
      "Requirement already satisfied: six>=1.5 in /Users/youxunliu/opt/anaconda3/lib/python3.9/site-packages (from python-dateutil>=2.7->matplotlib) (1.16.0)\n",
      "Note: you may need to restart the kernel to use updated packages.\n"
     ]
    }
   ],
   "source": [
    "pip install matplotlib"
   ]
  },
  {
   "cell_type": "code",
   "execution_count": null,
   "id": "a938cbb2",
   "metadata": {},
   "outputs": [],
   "source": [
    "\n"
   ]
  },
  {
   "cell_type": "code",
   "execution_count": 7,
   "id": "e43e7af6-612f-4e36-a733-401b902205bc",
   "metadata": {},
   "outputs": [
    {
     "name": "stdout",
     "output_type": "stream",
     "text": [
      "Requirement already satisfied: torch in /Users/youxunliu/opt/anaconda3/lib/python3.9/site-packages (2.2.2)\n",
      "Requirement already satisfied: sympy in /Users/youxunliu/opt/anaconda3/lib/python3.9/site-packages (from torch) (1.10.1)\n",
      "Requirement already satisfied: typing-extensions>=4.8.0 in /Users/youxunliu/opt/anaconda3/lib/python3.9/site-packages (from torch) (4.12.2)\n",
      "Requirement already satisfied: fsspec in /Users/youxunliu/opt/anaconda3/lib/python3.9/site-packages (from torch) (2022.7.1)\n",
      "Requirement already satisfied: networkx in /Users/youxunliu/opt/anaconda3/lib/python3.9/site-packages (from torch) (2.8.4)\n",
      "Requirement already satisfied: jinja2 in /Users/youxunliu/opt/anaconda3/lib/python3.9/site-packages (from torch) (2.11.3)\n",
      "Requirement already satisfied: filelock in /Users/youxunliu/opt/anaconda3/lib/python3.9/site-packages (from torch) (3.6.0)\n",
      "Requirement already satisfied: MarkupSafe>=0.23 in /Users/youxunliu/opt/anaconda3/lib/python3.9/site-packages (from jinja2->torch) (2.0.1)\n",
      "Requirement already satisfied: mpmath>=0.19 in /Users/youxunliu/opt/anaconda3/lib/python3.9/site-packages (from sympy->torch) (1.2.1)\n",
      "Note: you may need to restart the kernel to use updated packages.\n"
     ]
    }
   ],
   "source": [
    "pip install torch\n"
   ]
  },
  {
   "cell_type": "code",
   "execution_count": 7,
   "id": "85047046",
   "metadata": {},
   "outputs": [],
   "source": [
    "import numpy as np\n",
    "import matplotlib as plt\n",
    "import sklearn\n",
    "import librosa \n",
    "import json\n",
    "import csv\n",
    "import pandas as pd"
   ]
  },
  {
   "cell_type": "markdown",
   "id": "7a26ef70",
   "metadata": {},
   "source": [
    "# Model Saving funtion and Model loading function\n",
    "\n",
    "Having a model saving function and a modle loading function in which we can train the model in small epoch progress."
   ]
  },
  {
   "cell_type": "code",
   "execution_count": 12,
   "id": "a4163b63",
   "metadata": {},
   "outputs": [],
   "source": [
    "def modelSaving(model, version):\n",
    "    path = f\"./Models/{version}\"\n",
    "    print(\"Most recent saved model version is at \")\n",
    "    print(path)\n",
    "    joblib.dump(model, path)\n",
    "    print(f\"Model successfully saved\")    \n",
    "    "
   ]
  },
  {
   "cell_type": "code",
   "execution_count": 13,
   "id": "650e2255",
   "metadata": {},
   "outputs": [],
   "source": [
    "def modelLoading(file):\n",
    "    #file is a file path that reside in the directory of models\n",
    "    \n",
    "    saveTo = joblib.load(file)\n",
    "    print(f\"Model successfully loaded from {file}\")\n",
    "    return saveTo\n",
    "    "
   ]
  },
  {
   "cell_type": "markdown",
   "id": "8cccab19",
   "metadata": {},
   "source": [
    "# Preprocessing the data"
   ]
  },
  {
   "cell_type": "code",
   "execution_count": 5,
   "id": "08f389ad",
   "metadata": {},
   "outputs": [],
   "source": [
    "labels_file_path = \"traindata/maestro-v3.0.0-midi/maestro-v3.0.0/maestro-v3.0.0.json\""
   ]
  },
  {
   "cell_type": "code",
   "execution_count": 6,
   "id": "95d5637f",
   "metadata": {},
   "outputs": [],
   "source": [
    "with open(labels_file_path, 'r') as file:\n",
    "    data = json.load(file)"
   ]
  },
  {
   "cell_type": "code",
   "execution_count": 16,
   "id": "efe0d27d",
   "metadata": {},
   "outputs": [
    {
     "name": "stdout",
     "output_type": "stream",
     "text": [
      "1276\n"
     ]
    }
   ],
   "source": [
    "print(len(data['split']))"
   ]
  },
  {
   "cell_type": "code",
   "execution_count": 20,
   "id": "4ef91a83",
   "metadata": {},
   "outputs": [
    {
     "name": "stdout",
     "output_type": "stream",
     "text": [
      "962\n",
      "137\n",
      "177\n"
     ]
    }
   ],
   "source": [
    "all_sets = {}\n",
    "all_sets['train'] = []\n",
    "all_sets['validation'] = []\n",
    "all_sets['test'] = []\n",
    "\n",
    "def sortingsets (data, allsets):\n",
    "    for key in data:\n",
    "        if data[key] == 'train':\n",
    "            all_sets['train'].append(key)\n",
    "        elif data[key] == 'validation':\n",
    "            all_sets['validation'].append(key)\n",
    "        else:\n",
    "            all_sets['test'].append(key)\n",
    "\n",
    "def save_index_to_csv(all_sets):\n",
    "    for key in all_sets:\n",
    "    \n",
    "        path = f\"traindata/maestro-v3.0.0-midi/maestro-v3.0.0/{key}index.json\"\n",
    "        df = pd.DataFrame({'Index': all_sets[key]})\n",
    "        df.to_csv(path, index=False)\n",
    "\n",
    "def load_index_from_csv(path):\n",
    "    indices = []\n",
    "    with open(path, 'r') as file:\n",
    "        reader = csv.reader(file)\n",
    "        next(reader)\n",
    "        for row in reader:\n",
    "            indices.append(int(row[0]))\n",
    "    return indices\n",
    "\n",
    "sortingsets(data['split'], all_sets)\n",
    "print(len(all_sets['train']))\n",
    "print(len(all_sets['validation']))\n",
    "print(len(all_sets['test']))"
   ]
  },
  {
   "cell_type": "code",
   "execution_count": null,
   "id": "043612fc",
   "metadata": {},
   "outputs": [],
   "source": []
  },
  {
   "cell_type": "code",
   "execution_count": null,
   "id": "3e0440f3",
   "metadata": {},
   "outputs": [],
   "source": []
  }
 ],
 "metadata": {
  "kernelspec": {
   "display_name": "Python 3",
   "language": "python",
   "name": "python3"
  },
  "language_info": {
   "codemirror_mode": {
    "name": "ipython",
    "version": 3
   },
   "file_extension": ".py",
   "mimetype": "text/x-python",
   "name": "python",
   "nbconvert_exporter": "python",
   "pygments_lexer": "ipython3",
   "version": "3.12.7"
  }
 },
 "nbformat": 4,
 "nbformat_minor": 5
}
